{
 "cells": [
  {
   "cell_type": "markdown",
   "id": "51466c8d-8ce4-4b3d-be4e-18fdbeda5f53",
   "metadata": {},
   "source": [
    "# How to add summary of the conversation history\n",
    "\n",
    "One of the most common use cases for persistence is to use it to keep track of conversation history. This is great - it makes it easy to continue conversations. As conversations get longer and longer, however, this conversation history can build up and take up more and more of the context window. This can often be undesirable as it leads to more expensive and longer calls to the LLM, and potentially ones that error. One way to work around that is to create a summary of the conversation to date, and use that with the past N messages. This guide will go through an example of how to do that.\n",
    "\n",
    "This will involve a few steps:\n",
    "\n",
    "- Check if the conversation is too long (can be done by checking number of messages or length of messages)\n",
    "- If yes, the create summary (will need a prompt for this)\n",
    "- Then remove all except the last N messages\n",
    "\n",
    "A big part of this is deleting old messages. For an in depth guide on how to do that, see [this guide](../delete-messages)"
   ]
  },
  {
   "cell_type": "markdown",
   "id": "7cbd446a-808f-4394-be92-d45ab818953c",
   "metadata": {},
   "source": [
    "## Setup\n",
    "\n",
    "First, let's set up the packages we're going to want to use"
   ]
  },
  {
   "cell_type": "markdown",
   "id": "0abe11f4-62ed-4dc4-8875-3db21e260d1d",
   "metadata": {},
   "source": [
    "Next, we need to set API keys for Anthropic (the LLM we will use)"
   ]
  },
  {
   "cell_type": "code",
   "execution_count": 1,
   "id": "c903a1cf-2977-4e2d-ad7d-8b3946821d89",
   "metadata": {},
   "outputs": [],
   "source": [
    "import getpass\n",
    "import os\n",
    "from dotenv import load_dotenv\n",
    "\n",
    "\n",
    "load_dotenv()\n",
    "\n",
    "GEMINI_API_KEY = os.getenv(\"GEMINI_API_KEY\")\n",
    "TAVILY_API_KEY = os.getenv(\"TAVILY_API_KEY\")"
   ]
  },
  {
   "cell_type": "markdown",
   "id": "f0ed46a8-effe-4596-b0e1-a6a29ee16f5c",
   "metadata": {},
   "source": [
    "<div class=\"admonition tip\">\n",
    "    <p class=\"admonition-title\">Set up <a href=\"https://smith.langchain.com\">LangSmith</a> for LangGraph development</p>\n",
    "    <p style=\"padding-top: 5px;\">\n",
    "        Sign up for LangSmith to quickly spot issues and improve the performance of your LangGraph projects. LangSmith lets you use trace data to debug, test, and monitor your LLM apps built with LangGraph — read more about how to get started <a href=\"https://docs.smith.langchain.com\">here</a>. \n",
    "    </p>\n",
    "</div>"
   ]
  },
  {
   "cell_type": "markdown",
   "id": "84835fdb-a5f3-4c90-85f3-0e6257650aba",
   "metadata": {},
   "source": [
    "## Build the chatbot\n",
    "\n",
    "Let's now build the chatbot."
   ]
  },
  {
   "cell_type": "code",
   "execution_count": 13,
   "id": "378899a9-3b9a-4748-95b6-eb00e0828677",
   "metadata": {},
   "outputs": [],
   "source": [
    "from typing import Literal\n",
    "\n",
    "from langchain_google_genai import ChatGoogleGenerativeAI\n",
    "from langchain_core.messages import SystemMessage, RemoveMessage, HumanMessage\n",
    "from langgraph.checkpoint.memory import MemorySaver\n",
    "from langgraph.graph import MessagesState, StateGraph, START, END\n",
    "\n",
    "memory = MemorySaver()\n",
    "\n",
    "\n",
    "# We will add a `summary` attribute (in addition to `messages` key,\n",
    "# which MessagesState already has)\n",
    "class State(MessagesState):\n",
    "    summary: str\n",
    "\n",
    "\n",
    "# We will use this model for both the conversation and the summarization\n",
    "model = ChatGoogleGenerativeAI(model=\"gemini-2.0-flash\", temperature=1.0, api_key=GEMINI_API_KEY)\n",
    "\n",
    "\n",
    "# Define the logic to call the model\n",
    "def call_model(state: State):\n",
    "    summary = state.get(\"summary\", \"\")\n",
    "\n",
    "    if summary : \n",
    "        system_message = f\"Summary of the conversation so far: {summary}\"\n",
    "        message = [SystemMessage(content=system_message)] + state[\"messages\"]\n",
    "\n",
    "    else : \n",
    "        message = state[\"messages\"]\n",
    "\n",
    "    output = model.invoke(message)\n",
    "    return {\n",
    "        \"messages\" : [output.content],\n",
    "    }\n",
    "    \n",
    "\n",
    "\n",
    "# We now define the logic for determining whether to end or summarize the conversation\n",
    "def should_continue(state: State) -> Literal[\"summarize_conversation\", END]:\n",
    "    \"\"\"Return the next node to execute.\"\"\"\n",
    "    messages_len = len(state[\"messages\"])\n",
    "\n",
    "    if messages_len > 6:\n",
    "        return \"summarize_conversation\"\n",
    "    \n",
    "    return END\n",
    "\n",
    "def summarize_conversation(state: State):\n",
    "    # First, we summarize the conversation\n",
    "    summary = state.get(\"summary\", \"\")\n",
    "\n",
    "    if summary: \n",
    "        summary_message = f\"This is the summary of the conversation so far: {summary}, Extend the summary by taking into account the new messages above:\"\n",
    "\n",
    "    else : \n",
    "        summary_message = \"Create a summary of the conversation above\"\n",
    "    message = state[\"messages\"] + [HumanMessage(content=summary_message)]\n",
    "    output = model.invoke(message)\n",
    "\n",
    "    deleted_message = [RemoveMessage(id = msg.id) for msg in state[\"messages\"][:-2]]\n",
    "    return {\"summary\": output.content, \"messages\": deleted_message}\n",
    "\n",
    "\n",
    "# Define a new graph\n",
    "workflow = StateGraph(State)\n",
    "\n",
    "# Define the conversation node and the summarize node\n",
    "workflow.add_node(\"conversation\", call_model)\n",
    "workflow.add_node(summarize_conversation)\n",
    "\n",
    "# Set the entrypoint as conversation\n",
    "workflow.add_edge(START, \"conversation\")\n",
    "\n",
    "# We now add a conditional edge\n",
    "workflow.add_conditional_edges(\n",
    "    # First, we define the start node. We use `conversation`.\n",
    "    # This means these are the edges taken after the `conversation` node is called.\n",
    "    \"conversation\",\n",
    "    # Next, we pass in the function that will determine which node is called next.\n",
    "    should_continue,\n",
    ")\n",
    "\n",
    "# We now add a normal edge from `summarize_conversation` to END.\n",
    "# This means that after `summarize_conversation` is called, we end.\n",
    "workflow.add_edge(\"summarize_conversation\", END)\n",
    "\n",
    "# Finally, we compile it!\n",
    "app = workflow.compile(checkpointer=memory)"
   ]
  },
  {
   "cell_type": "code",
   "execution_count": 14,
   "id": "3867333b",
   "metadata": {},
   "outputs": [
    {
     "data": {
      "image/png": "[encoded data removed]",
      "text/plain": [
       "<IPython.core.display.Image object>"
      ]
     },
     "metadata": {},
     "output_type": "display_data"
    }
   ],
   "source": [
    "from IPython.display import Image, display\n",
    "\n",
    "try:\n",
    "    display(Image(app.get_graph(xray = True).draw_mermaid_png()))\n",
    "except Exception:\n",
    "    # This requires some extra dependencies and is optional\n",
    "    pass"
   ]
  },
  {
   "cell_type": "markdown",
   "id": "41c2872e-04b3-4c44-9e03-9e84a5230adf",
   "metadata": {},
   "source": [
    "## Using the graph"
   ]
  },
  {
   "cell_type": "code",
   "execution_count": 17,
   "id": "dc697132-8fa1-4bf5-9722-56a9859331ab",
   "metadata": {},
   "outputs": [],
   "source": [
    "def print_update(update):\n",
    "    for k, v in update.items():\n",
    "        for m in v[\"messages\"]:\n",
    "            print(m)\n",
    "        if \"summary\" in v:\n",
    "            print(v[\"summary\"])"
   ]
  },
  {
   "cell_type": "code",
   "execution_count": 18,
   "id": "57b27553-21be-43e5-ac48-d1d0a3aa0dca",
   "metadata": {},
   "outputs": [
    {
     "name": "stdout",
     "output_type": "stream",
     "text": [
      "================================\u001b[1m Human Message \u001b[0m=================================\n",
      "\n",
      "hi! I'm bob\n",
      "Hello Bob! It's good to hear from you again. Still Bob, I see! 😉 How can I assist you this time around?\n",
      "================================\u001b[1m Human Message \u001b[0m=================================\n",
      "\n",
      "what's my name?\n",
      "Your name is Bob. You told me so! 😊\n",
      "================================\u001b[1m Human Message \u001b[0m=================================\n",
      "\n",
      "i like the celtics!\n",
      "That's great, Bob! The Celtics are a legendary team. What do you like about them? Do you have a favorite player or a favorite Celtics memory?\n",
      "content='' additional_kwargs={} response_metadata={} id='fc7ae364-d2dd-4348-ac55-b2bdf4aa529a'\n",
      "content='' additional_kwargs={} response_metadata={} id='2add0255-c307-4633-883d-510ba8de9ff4'\n",
      "content='' additional_kwargs={} response_metadata={} id='ca772cbd-9d2c-44c1-9078-7ea86fed3439'\n",
      "content='' additional_kwargs={} response_metadata={} id='132883a8-e6ce-48e8-a530-0bfd57152a08'\n",
      "content='' additional_kwargs={} response_metadata={} id='6ad9c7cf-42f4-473d-92c6-b4d83dc1e43e'\n",
      "content='' additional_kwargs={} response_metadata={} id='ee2c0573-4024-4071-8661-4c5709c354dc'\n",
      "Okay, here's a summary of our conversation:\n",
      "\n",
      "The user, who identifies themselves as \"Bob,\" has initiated the conversation several times, simply stating \"Hi! I'm Bob.\" After a couple of greetings, the AI acknowledged the user's persistent introduction and then inquired about how it could assist. Bob then asked \"what's my name?\", to which the AI correctly responded \"Your name is Bob.\" Finally, Bob expressed their affinity for the Celtics, prompting the AI to ask further questions about their interest in the team.\n"
     ]
    }
   ],
   "source": [
    "from langchain_core.messages import HumanMessage\n",
    "\n",
    "config = {\"configurable\": {\"thread_id\": \"4\"}}\n",
    "input_message = HumanMessage(content=\"hi! I'm bob\")\n",
    "input_message.pretty_print()\n",
    "for event in app.stream({\"messages\": [input_message]}, config, stream_mode=\"updates\"):\n",
    "    print_update(event)\n",
    "\n",
    "input_message = HumanMessage(content=\"what's my name?\")\n",
    "input_message.pretty_print()\n",
    "for event in app.stream({\"messages\": [input_message]}, config, stream_mode=\"updates\"):\n",
    "    print_update(event)\n",
    "\n",
    "input_message = HumanMessage(content=\"i like the celtics!\")\n",
    "input_message.pretty_print()\n",
    "for event in app.stream({\"messages\": [input_message]}, config, stream_mode=\"updates\"):\n",
    "    print_update(event)"
   ]
  },
  {
   "cell_type": "markdown",
   "id": "9760e219-a7fc-4d81-b4e8-1334c5afc510",
   "metadata": {},
   "source": [
    "We can see that so far no summarization has happened - this is because there are only six messages in the list."
   ]
  },
  {
   "cell_type": "code",
   "execution_count": 19,
   "id": "935265a0-d511-475a-8a0d-b3c3cc5e42a0",
   "metadata": {},
   "outputs": [
    {
     "data": {
      "text/plain": [
       "{'messages': [HumanMessage(content='i like the celtics!', additional_kwargs={}, response_metadata={}, id='5757b2fd-1422-416e-ac38-7adad5c5a0ca'),\n",
       "  HumanMessage(content=\"That's great, Bob! The Celtics are a legendary team. What do you like about them? Do you have a favorite player or a favorite Celtics memory?\", additional_kwargs={}, response_metadata={}, id='367b2e2c-ed7c-4069-9af9-f6a3574ed8bd')],\n",
       " 'summary': 'Okay, here\\'s a summary of our conversation:\\n\\nThe user, who identifies themselves as \"Bob,\" has initiated the conversation several times, simply stating \"Hi! I\\'m Bob.\" After a couple of greetings, the AI acknowledged the user\\'s persistent introduction and then inquired about how it could assist. Bob then asked \"what\\'s my name?\", to which the AI correctly responded \"Your name is Bob.\" Finally, Bob expressed their affinity for the Celtics, prompting the AI to ask further questions about their interest in the team.'}"
      ]
     },
     "execution_count": 19,
     "metadata": {},
     "output_type": "execute_result"
    }
   ],
   "source": [
    "values = app.get_state(config).values\n",
    "values"
   ]
  },
  {
   "cell_type": "markdown",
   "id": "bb40eddb-9a31-4410-a4c0-9762e2d89e56",
   "metadata": {},
   "source": [
    "Now let's send another message in"
   ]
  },
  {
   "cell_type": "code",
   "execution_count": 20,
   "id": "048805a4-3d97-4e76-ac45-8d80d4364c46",
   "metadata": {},
   "outputs": [
    {
     "name": "stdout",
     "output_type": "stream",
     "text": [
      "================================\u001b[1m Human Message \u001b[0m=================================\n",
      "\n",
      "i like how much they win\n",
      "That's a great reason to be a Celtics fan! They definitely have a winning tradition. Do you have a favorite Celtics championship run or a specific season that stands out to you?\n"
     ]
    }
   ],
   "source": [
    "input_message = HumanMessage(content=\"i like how much they win\")\n",
    "input_message.pretty_print()\n",
    "for event in app.stream({\"messages\": [input_message]}, config, stream_mode=\"updates\"):\n",
    "    print_update(event)"
   ]
  },
  {
   "cell_type": "markdown",
   "id": "6b196367-6151-4982-9430-3db7373de06e",
   "metadata": {},
   "source": [
    "If we check the state now, we can see that we have a summary of the conversation, as well as the last two messages"
   ]
  },
  {
   "cell_type": "code",
   "execution_count": 21,
   "id": "09ebb693-4738-4474-a095-6491def5c5f9",
   "metadata": {},
   "outputs": [
    {
     "data": {
      "text/plain": [
       "{'messages': [HumanMessage(content='i like the celtics!', additional_kwargs={}, response_metadata={}, id='5757b2fd-1422-416e-ac38-7adad5c5a0ca'),\n",
       "  HumanMessage(content=\"That's great, Bob! The Celtics are a legendary team. What do you like about them? Do you have a favorite player or a favorite Celtics memory?\", additional_kwargs={}, response_metadata={}, id='367b2e2c-ed7c-4069-9af9-f6a3574ed8bd'),\n",
       "  HumanMessage(content='i like how much they win', additional_kwargs={}, response_metadata={}, id='bf1deceb-8f2e-48d9-b752-38b00b858a96'),\n",
       "  HumanMessage(content=\"That's a great reason to be a Celtics fan! They definitely have a winning tradition. Do you have a favorite Celtics championship run or a specific season that stands out to you?\", additional_kwargs={}, response_metadata={}, id='2e221578-f56f-4578-a9d2-05944678616a')],\n",
       " 'summary': 'Okay, here\\'s a summary of our conversation:\\n\\nThe user, who identifies themselves as \"Bob,\" has initiated the conversation several times, simply stating \"Hi! I\\'m Bob.\" After a couple of greetings, the AI acknowledged the user\\'s persistent introduction and then inquired about how it could assist. Bob then asked \"what\\'s my name?\", to which the AI correctly responded \"Your name is Bob.\" Finally, Bob expressed their affinity for the Celtics, prompting the AI to ask further questions about their interest in the team.'}"
      ]
     },
     "execution_count": 21,
     "metadata": {},
     "output_type": "execute_result"
    }
   ],
   "source": [
    "values = app.get_state(config).values\n",
    "values"
   ]
  },
  {
   "cell_type": "markdown",
   "id": "966e4177-c0fc-4fd0-a494-dd03f7f2fddb",
   "metadata": {},
   "source": [
    "We can now resume having a conversation! Note that even though we only have the last two messages, we can still ask it questions about things mentioned earlier in the conversation (because we summarized those)"
   ]
  },
  {
   "cell_type": "code",
   "execution_count": 22,
   "id": "7094c5ab-66f8-42ff-b1c3-90c8a9468e62",
   "metadata": {},
   "outputs": [
    {
     "name": "stdout",
     "output_type": "stream",
     "text": [
      "================================\u001b[1m Human Message \u001b[0m=================================\n",
      "\n",
      "what's my name?\n",
      "Your name is Bob.\n"
     ]
    }
   ],
   "source": [
    "input_message = HumanMessage(content=\"what's my name?\")\n",
    "input_message.pretty_print()\n",
    "for event in app.stream({\"messages\": [input_message]}, config, stream_mode=\"updates\"):\n",
    "    print_update(event)"
   ]
  },
  {
   "cell_type": "code",
   "execution_count": 23,
   "id": "40e5db8e-9db9-4ac7-9d76-a99fd4034bf3",
   "metadata": {},
   "outputs": [
    {
     "name": "stdout",
     "output_type": "stream",
     "text": [
      "================================\u001b[1m Human Message \u001b[0m=================================\n",
      "\n",
      "what NFL team do you think I like?\n",
      "That's a fun question, Bob! Since you're a Celtics fan, I might guess that you're a fan of a Boston-area NFL team. So, my guess is you like the **New England Patriots**.\n",
      "\n",
      "Is that right?\n",
      "content='' additional_kwargs={} response_metadata={} id='5757b2fd-1422-416e-ac38-7adad5c5a0ca'\n",
      "content='' additional_kwargs={} response_metadata={} id='367b2e2c-ed7c-4069-9af9-f6a3574ed8bd'\n",
      "content='' additional_kwargs={} response_metadata={} id='bf1deceb-8f2e-48d9-b752-38b00b858a96'\n",
      "content='' additional_kwargs={} response_metadata={} id='2e221578-f56f-4578-a9d2-05944678616a'\n",
      "content='' additional_kwargs={} response_metadata={} id='77d95791-21fb-454c-ac7c-fc7b71c2a28e'\n",
      "content='' additional_kwargs={} response_metadata={} id='22b325b9-54c0-41b4-8b09-5d3f3e72972d'\n",
      "Okay, here's the updated summary:\n",
      "\n",
      "The user, who identifies themselves as \"Bob,\" has initiated the conversation several times, simply stating \"Hi! I'm Bob.\" After a couple of greetings, the AI acknowledged the user's persistent introduction and then inquired about how it could assist. Bob then asked \"what's my name?\", to which the AI correctly responded \"Your name is Bob.\" Finally, Bob expressed their affinity for the Celtics, prompting the AI to ask further questions about their interest in the team. Bob mentioned they like the Celtics because they win a lot. Building on Bob's interest in Boston sports, the AI speculated that Bob might also be a fan of the New England Patriots.\n"
     ]
    }
   ],
   "source": [
    "input_message = HumanMessage(content=\"what NFL team do you think I like?\")\n",
    "input_message.pretty_print()\n",
    "for event in app.stream({\"messages\": [input_message]}, config, stream_mode=\"updates\"):\n",
    "    print_update(event)"
   ]
  },
  {
   "cell_type": "code",
   "execution_count": 24,
   "id": "0a1a0fda-5309-45f0-9465-9f3dff604d74",
   "metadata": {},
   "outputs": [
    {
     "name": "stdout",
     "output_type": "stream",
     "text": [
      "================================\u001b[1m Human Message \u001b[0m=================================\n",
      "\n",
      "i like the patriots!\n",
      "Nice! I'm glad I guessed correctly. What do you like about the Patriots? Is it similar to why you like the Celtics - because they win a lot?\n"
     ]
    }
   ],
   "source": [
    "input_message = HumanMessage(content=\"i like the patriots!\")\n",
    "input_message.pretty_print()\n",
    "for event in app.stream({\"messages\": [input_message]}, config, stream_mode=\"updates\"):\n",
    "    print_update(event)"
   ]
  }
 ],
 "metadata": {
  "kernelspec": {
   "display_name": "Python 3",
   "language": "python",
   "name": "python3"
  },
  "language_info": {
   "codemirror_mode": {
    "name": "ipython",
    "version": 3
   },
   "file_extension": ".py",
   "mimetype": "text/x-python",
   "name": "python",
   "nbconvert_exporter": "python",
   "pygments_lexer": "ipython3",
   "version": "3.12.1"
  }
 },
 "nbformat": 4,
 "nbformat_minor": 5
}
